{
 "cells": [
  {
   "cell_type": "code",
   "execution_count": null,
   "metadata": {},
   "outputs": [],
   "source": [
    "%pip install h5py numpy"
   ]
  },
  {
   "cell_type": "code",
   "execution_count": null,
   "metadata": {},
   "outputs": [],
   "source": [
    "import numpy as np\n",
    "import h5py"
   ]
  },
  {
   "cell_type": "markdown",
   "metadata": {},
   "source": [
    "## Storing Scientific Data into HDF5 Files with `h5py`"
   ]
  },
  {
   "cell_type": "markdown",
   "metadata": {},
   "source": [
    "In this section, we'll get a sense of how libraries that help us store scientific data into binary files in a way that gives us both flexibility and simplicity!\n",
    "\n",
    "Particularly, we'll end up looking at HDF5 ('.h5', '.hdf', '.hdf5) files, which are used as the core file format for a wide variety of popular data formats, and which works as the basic for the NIX files we'll be working with later on to store complex neuroscience data."
   ]
  },
  {
   "cell_type": "markdown",
   "metadata": {},
   "source": [
    "### Writing Mixed-Type, Labelled, Data and Metadata to HDF5 Files using h5py\n",
    "\n",
    "HDF5 files have a lot more features:\n",
    "  - They are highly cross-platform and work with a wide variety of tools\n",
    "  - They can store many different datasets in a single file (or even in multiple linked files)\n",
    "  - They can store metadata alonside the data\n",
    "  - They let you store data hierarchically, making a nice dict-like nested organization for your data\n",
    "  - They can compress your data.\n",
    "  - They let you work with data that is larger than memory, making it easy to read in only the data that you need.\n",
    "  - They can be easily previewed and inspected using the https://myhdf5.hdfgroup.org/ web tool!\n",
    "  \n",
    "So many features!  Here, we'll get a basic senses of how they work by using the `h5py` library, which gives us a dict-like, Numpy-native interface to HDF5 files and is used internally by many popular Python frameworks.\n",
    "\n",
    "| Code | Description |\n",
    "| :-- | :-- |\n",
    "| **`f = h5py.File('filename.h5', 'w')`** | Open an h5py file object for writing |\n",
    "| **`f.close()`** | Closes the h5py file and releases the linked file back to the operating system. |\n",
    "| **`f.create_dataset('temp', data=x)`** | Write an array called 'temp' with the data in the numy array `x` into the HDF5 file |\n",
    "| **`f.create_dataset('data/temp', data=x)`** | Write an array called 'temp' in the folder called \"data\" with the data in the numy array `x` into the HDF5 file |\n",
    "| **`f.attrs['name'] = 'Session 1'`** | Set an attribute as metadata onto the root group of the HDF5 file -- this works like a normal Python dictionary |\n",
    "| **`f['x'].attrs['id'] = 'ABC'`** | Set an attribute as metadata onto the 'x' node of the HDF file |\n",
    "\n"
   ]
  },
  {
   "cell_type": "code",
   "execution_count": null,
   "metadata": {},
   "outputs": [],
   "source": [
    "# %pip install h5py numpy"
   ]
  },
  {
   "cell_type": "code",
   "execution_count": null,
   "metadata": {},
   "outputs": [],
   "source": [
    "import h5py\n",
    "import numpy as np"
   ]
  },
  {
   "cell_type": "markdown",
   "metadata": {},
   "source": [
    "**Exercises**"
   ]
  },
  {
   "cell_type": "markdown",
   "metadata": {},
   "source": [
    "**Example**: Write an HDF5 File called `temp.h5` with the following schema:\n",
    "```\n",
    "root/\n",
    "└── temp: uint16, 1000 x 1  (temperature measurements over time)\n",
    "```"
   ]
  },
  {
   "cell_type": "code",
   "execution_count": null,
   "metadata": {},
   "outputs": [],
   "source": [
    "temp = np.random.randint(15, 22, size=(1000,1)).astype(np.uint16)\n"
   ]
  },
  {
   "cell_type": "code",
   "execution_count": null,
   "metadata": {},
   "outputs": [],
   "source": [
    "with h5py.File('temp.h5', 'w') as f:\n",
    "    f.create_dataset('temp', data=temp)\n",
    "    f['temp'].attrs.update({\n",
    "        'description': 'Temperature measurements over time'\n",
    "    })\n",
    "\n"
   ]
  },
  {
   "cell_type": "markdown",
   "metadata": {},
   "source": [
    "Write an HDF5 File called `ephys.h5` with the following schema and descriptions:\n",
    "\n",
    "```\n",
    "root/\n",
    "├── time: float32, 1 x 1000 (trial time, in seconds)\n",
    "├── voltage: int16, 4 x 1000 (voltage measurements for each recording channel)\n",
    "└──chan_names: S, 4 (channel names for each recording channel)\n",
    "```"
   ]
  },
  {
   "cell_type": "code",
   "execution_count": null,
   "metadata": {},
   "outputs": [],
   "source": [
    "time = np.linspace(0, 3, 1000).astype(np.float32)\n",
    "voltage = np.random.normal(1, 1, size=(4, 1000)).astype(np.float32)\n",
    "chan_names = ['CH01', 'CH02', 'CH03', 'CH05']"
   ]
  },
  {
   "cell_type": "code",
   "execution_count": null,
   "metadata": {},
   "outputs": [],
   "source": []
  },
  {
   "cell_type": "markdown",
   "metadata": {},
   "source": [
    "Write an HDF5 File called `motion_tracking.h5` with the following schema (feel free to skip the descriptions this time):\n",
    "```\n",
    "root/\n",
    "├── session_date: str\n",
    "├── subject_id: str\n",
    "├── camera: \n",
    "│   ├── black_noise_image: uint16, 640 x 640 x 3 (reference image taken with lights out)\n",
    "│   ├── image_width: uint16\n",
    "│   ├── image_height: uint16\n",
    "│   ├── shutter_speed: uint16\n",
    "│   └── aperture: float32\n",
    "│\n",
    "└── motion_tracking: \n",
    "    ├── time: uint32 1 x 3000 (session time, in milliseconds)\n",
    "    ├── rb_pos: float32  2 x 3 x 3000 (XYZ coordinates of the center of each tracked rigid body)\n",
    "    ├── rb_rot: float32  2 x 3 x 3000 (XYZ Euler rotations of each tracked rigid body)\n",
    "    ├── xyz_names: str 1 x 3 (The spatial coordinate names)\n",
    "    └── rb_names: str 1 x 2 (The name of each rigid body)\n",
    "\n",
    "\n",
    "```"
   ]
  },
  {
   "cell_type": "code",
   "execution_count": null,
   "metadata": {},
   "outputs": [],
   "source": [
    "session_date = '2024-04-22'\n",
    "subject_id = 'AD11'\n",
    "camera_black_noise_im = np.random.randint(0, 30, size=(640, 640)).astype(np.uint16)\n",
    "im_width = 640\n",
    "im_height = 640\n",
    "shutter_speed = 800\n",
    "aperture = 2.8\n",
    "motion_time = (np.arange(0, 1000, step=1/shutter_speed)[:3000] * 1000).astype(np.uint32)\n",
    "rb_pos = np.random.random(size=(2, 3, 3000)).astype(np.float32)\n",
    "rb_rot = np.random.random(size=(2, 3, 3000)).astype(np.float32)\n",
    "xyz_names = ['X', 'Y', 'Z']\n",
    "rb_names = ['head', 'tail_base']"
   ]
  },
  {
   "cell_type": "markdown",
   "metadata": {},
   "source": [
    "### Reading Data from HDF5 Files\n",
    "\n",
    "| **Code** | **Description** |\n",
    "| :-- | :-- |\n",
    "| **`f = h5py.File('file.h5')`** | Opens an h5py file object for reading |\n",
    "| **`f.close()`** | Closes the h5py file and releases the linked file back to the operating system. |\n",
    "| **`f.keys()`** | See a list of datasets and groups at the root node |\n",
    "| **`f.attrs`** | Get the dict-like attributes at the root node |\n",
    "| **`f.attrs['a']']`** | Get the 'a' attribute at the root node  |\n",
    "| **`f['x'][:]`** | Read in the 'x' dataset as a numpy array |\n",
    "| **`f['x'][5:20]`** | Read in a slice of the 'x' dataset as a numpy array |\n",
    "| **`f['x'].keys()`** | See a list of datasets and groups at the 'x' node |\n",
    "| **`f['folder']['x']`** | Get tthe 'x' dataset in the 'folder' group |\n",
    "| **`f['folder/x']`** | (Alternative Syntax) Ge tthe 'x' dataset in the 'folder' group |\n",
    "\n",
    "\n",
    "\n"
   ]
  },
  {
   "cell_type": "markdown",
   "metadata": {},
   "source": [
    "**Exercises**"
   ]
  },
  {
   "cell_type": "markdown",
   "metadata": {},
   "source": [
    "**Example**: From the temperature file, read in only the last 5 temperature measurements as a numpy array."
   ]
  },
  {
   "cell_type": "code",
   "execution_count": null,
   "metadata": {},
   "outputs": [
    {
     "data": {
      "text/plain": [
       "array([[16],\n",
       "       [21],\n",
       "       [21],\n",
       "       [16],\n",
       "       [17]], dtype=uint16)"
      ]
     },
     "metadata": {},
     "output_type": "display_data"
    }
   ],
   "source": [
    "f = h5py.File('temp.h5')\n",
    "temp = f['temp'][-5:, :]\n",
    "f.close()\n",
    "temp"
   ]
  },
  {
   "cell_type": "markdown",
   "metadata": {},
   "source": [
    "From the ephys file, read in the first 10 voltage measurements as a numpy array."
   ]
  },
  {
   "cell_type": "code",
   "execution_count": null,
   "metadata": {},
   "outputs": [],
   "source": []
  },
  {
   "cell_type": "markdown",
   "metadata": {},
   "source": [
    "from the ephys file, get the name of the second recording channel."
   ]
  },
  {
   "cell_type": "code",
   "execution_count": null,
   "metadata": {},
   "outputs": [],
   "source": []
  },
  {
   "cell_type": "markdown",
   "metadata": {},
   "source": [
    "From the ephys file, get the description of the voltage dataset"
   ]
  },
  {
   "cell_type": "code",
   "execution_count": null,
   "metadata": {},
   "outputs": [],
   "source": []
  },
  {
   "cell_type": "markdown",
   "metadata": {},
   "source": [
    "From the motion tracking file, get the all the XYZ positions of the first rigid body during the recording."
   ]
  },
  {
   "cell_type": "code",
   "execution_count": null,
   "metadata": {},
   "outputs": [],
   "source": []
  },
  {
   "cell_type": "markdown",
   "metadata": {},
   "source": [
    "From the motion tracking file, get the camera's shutter speed during the session"
   ]
  },
  {
   "cell_type": "code",
   "execution_count": null,
   "metadata": {},
   "outputs": [],
   "source": []
  }
 ],
 "metadata": {
  "language_info": {
   "name": "python"
  }
 },
 "nbformat": 4,
 "nbformat_minor": 2
}
